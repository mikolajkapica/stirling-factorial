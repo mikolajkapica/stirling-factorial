{
 "cells": [
  {
   "cell_type": "markdown",
   "id": "000df8ae-54ab-453f-a050-26437883b5a9",
   "metadata": {},
   "source": [
    "# Aproksymacja Stirlinga"
   ]
  },
  {
   "cell_type": "markdown",
   "id": "817f29f2-7f34-4dc9-b7d8-8099a384ede4",
   "metadata": {},
   "source": [
    "Ostatnio obejrzałem ciekawy filmik opisujący wzór Stirlinga, który pomaga znaleźć silnię dużych liczb."
   ]
  },
  {
   "cell_type": "markdown",
   "id": "44c7948d-4a81-4924-9d3e-6192d132435c",
   "metadata": {},
   "source": [
    "[![Big Factorials](https://i.ytimg.com/vi/6ofIBoWGc7k/hq720.jpg?sqp=-oaymwEcCNAFEJQDSFXyq4qpAw4IARUAAIhCGAFwAcABBg==&rs=AOn4CLDl8T7cv3LiEGqV087nyU8IUKg9tQ)](https://www.youtube.com/embed/6ofIBoWGc7k?si=RiuVKOFgiFT3jdiG)"
   ]
  },
  {
   "cell_type": "markdown",
   "id": "a63174bb-25e4-4297-9723-525542bdf392",
   "metadata": {},
   "source": [
    "Wzór Stirlinga:\n",
    "$$\n",
    "n!=(\\frac{n}{e})^n \\sqrt{2\\pi n}\n",
    "$$\n",
    "Wzór ten zgadza się dla bardzo dużych liczb $n$ ponieważ:\n",
    "$$\n",
    "\\lim_{n\\to\\infty} \\frac{n!}{(\\frac{n}{e})^n \\sqrt{2\\pi n}}=1\n",
    "$$"
   ]
  },
  {
   "cell_type": "markdown",
   "id": "2eb47d34-6759-4db2-8866-ea036b1724ff",
   "metadata": {},
   "source": [
    "Dokładny sposób obliczania silni *(rekursywny)*:"
   ]
  },
  {
   "cell_type": "code",
   "execution_count": 3,
   "id": "0116ed9a-4995-4572-a3ed-e55d60c67b80",
   "metadata": {},
   "outputs": [],
   "source": [
    "def factorial_rec(n):\n",
    "    if n == 0:\n",
    "        return 1\n",
    "    return n * factorial_rec(n-1)"
   ]
  },
  {
   "cell_type": "markdown",
   "id": "198b4908",
   "metadata": {},
   "source": [
    "\n",
    "oraz *iteracyjny*"
   ]
  },
  {
   "cell_type": "code",
   "execution_count": 4,
   "id": "3468ebc6-8103-4488-8eb8-09bff1b14f4c",
   "metadata": {},
   "outputs": [],
   "source": [
    "def factorial_iter(n):\n",
    "    def aux(n, sum):\n",
    "        if n == 0:\n",
    "            return sum\n",
    "        return aux(n-1, n * sum)\n",
    "    return aux(n, 1)"
   ]
  },
  {
   "cell_type": "code",
   "execution_count": 5,
   "id": "0afd0fa0-3196-443b-9d5d-e15bd3f4b5f2",
   "metadata": {},
   "outputs": [],
   "source": [
    "def factorial_iter_for(n):\n",
    "    sum = 1\n",
    "    for i in range(1,n+1):\n",
    "        sum *= (i)\n",
    "    return sum"
   ]
  },
  {
   "cell_type": "markdown",
   "id": "d3352c82-b723-4753-bad4-6d7ec562adf1",
   "metadata": {},
   "source": [
    "## Przetestujmy:"
   ]
  },
  {
   "cell_type": "code",
   "execution_count": 6,
   "id": "31c2e798-759a-4a35-9eba-ccb252c3849a",
   "metadata": {},
   "outputs": [],
   "source": [
    "correct_factorials = [1, 1, 2, 6, 24, 120, 720, 5040, 40320, 362880, 3628800, 39916800, 479001600, 6227020800, 87178291200, 1307674368000, 20922789888000, 355687428096000, 6402373705728000, 121645100408832000, 2432902008176640000]\n"
   ]
  },
  {
   "cell_type": "markdown",
   "id": "1eb4e2ef-6675-464e-95a6-87d0ef9d58a5",
   "metadata": {},
   "source": [
    "| n          | n!                              |\n",
    "|------------|---------------------------------|\n",
    "| 0          | 1                               |\n",
    "| 1          | 1                               |\n",
    "| 2          | 2                               |\n",
    "| 3          | 6                               |\n",
    "| 4          | 24                              |\n",
    "| 5          | 120                             |\n",
    "| 6          | 720                             |\n",
    "| 7          | 5040                            |\n",
    "| 8          | 40 320                          |\n",
    "| 9          | 362 880                         |\n",
    "| 10         | 3 628 800                       |\n",
    "| 11         | 39 916 800                      |\n",
    "| 12         | 479 001 600                     |\n",
    "| 13         | 6 227 020 800                   |\n",
    "| 14         | 87 178 291 200                  |\n",
    "| 15         | 1 307 674 368 000               |\n",
    "| 16         | 20 922 789 888 000              |\n",
    "| 17         | 355 687 428 096 000             |\n",
    "| 18         | 6 402 373 705 728 000           |\n",
    "| 19         | 121 645 100 408 832 000         |\n",
    "| 20         | 2 432 902 008 176 640 000       |"
   ]
  },
  {
   "cell_type": "code",
   "execution_count": 7,
   "id": "39681367-db20-4076-8fbd-b1aa88533271",
   "metadata": {},
   "outputs": [
    {
     "name": "stdout",
     "output_type": "stream",
     "text": [
      "Everything is correct!\n"
     ]
    }
   ],
   "source": [
    "for n in range(6):\n",
    "    if not ((fr := factorial_rec(n)) == (fi := factorial_iter(n)) == (fi_for := factorial_iter_for(n)) == correct_factorials[n]):\n",
    "        raise Exception(f\"Something's wrong!\\\n",
    "                        \\nfactorial_rec({n}) = {fr}\\\n",
    "                        \\nfactorial_iter({n}) = {fi}\\\n",
    "                        \\nfactorial_iter_for({n}) = {fi_for}\\\n",
    "                        \\ncorrect_factorials[{n}] = {correct_factorials[n]}\")\n",
    "print(\"Everything is correct!\")"
   ]
  },
  {
   "cell_type": "markdown",
   "id": "34ae2985-fea1-4118-a725-810c2d049abf",
   "metadata": {},
   "source": [
    "## Policzmy teraz silnię ze 100:"
   ]
  },
  {
   "cell_type": "code",
   "execution_count": 52,
   "id": "3db07ca4-904c-4f92-a0a1-94b2863a22b0",
   "metadata": {
    "scrolled": true
   },
   "outputs": [
    {
     "name": "stdout",
     "output_type": "stream",
     "text": [
      "finished!\n",
      "6.830233097076416\n"
     ]
    }
   ],
   "source": [
    "from time import time\n",
    "\n",
    "n = 200_000 \n",
    "start = time()\n",
    "a = factorial_iter_for(n)\n",
    "print(\"finished!\")\n",
    "end = time()\n",
    "normal_fact_score = end - start\n",
    "print(normal_fact_score)"
   ]
  },
  {
   "cell_type": "markdown",
   "id": "e0c94377-ae7e-465f-a1a3-dee494ad7167",
   "metadata": {},
   "source": [
    "Więc łatwo zauważyć, że przy dużych liczbach sprawa staje się problematyczna.\n",
    "\n",
    "Zaimplementujmy wzór Stirlinga:\n",
    "$$\n",
    "n!=(\\frac{n}{e})^n \\sqrt{2\\pi n}\n",
    "$$"
   ]
  },
  {
   "cell_type": "code",
   "execution_count": 53,
   "id": "446e0ee3-77c1-4535-a946-a782444e320d",
   "metadata": {},
   "outputs": [],
   "source": [
    "import math\n",
    "from decimal import Decimal # Potrzebny ze względu na Overflow Error\n",
    "def stirling(n):\n",
    "    n = Decimal(n)\n",
    "    e = Decimal(math.e)\n",
    "    pi = Decimal(math.pi)\n",
    "    return ((n / e) ** n) * Decimal(math.sqrt(2 * pi * n))"
   ]
  },
  {
   "cell_type": "code",
   "execution_count": 54,
   "id": "6e1da96c-ac00-4c77-adf3-9c663e793aed",
   "metadata": {},
   "outputs": [
    {
     "data": {
      "text/plain": [
       "Decimal('118.0191679575901169807373816')"
      ]
     },
     "execution_count": 54,
     "metadata": {},
     "output_type": "execute_result"
    }
   ],
   "source": [
    "stirling(5)"
   ]
  },
  {
   "cell_type": "markdown",
   "id": "8a9c0448-863f-45b2-b422-82ff00c53140",
   "metadata": {},
   "source": [
    "Dla małych liczb można powiedzieć, że aproksymacja jest bardzo niedokładna.\n",
    "\n",
    "Policzmy błąd względny:"
   ]
  },
  {
   "cell_type": "code",
   "execution_count": 55,
   "id": "3cfbcc7f-6c7b-4935-a71b-f83113c993b5",
   "metadata": {},
   "outputs": [
    {
     "name": "stdout",
     "output_type": "stream",
     "text": [
      "1.678398582780798704509522378%\n"
     ]
    }
   ],
   "source": [
    "n = 5\n",
    "x = stirling(n)\n",
    "x0 = correct_factorials[n]\n",
    "delta = abs(x - x0) / x\n",
    "print(f\"{delta * 100}%\")"
   ]
  },
  {
   "cell_type": "markdown",
   "id": "87c8cbd3-c9b9-473f-8f20-c12d99176201",
   "metadata": {},
   "source": [
    "To całkiem dużo, sprawdźmy dla większych liczb np. 20"
   ]
  },
  {
   "cell_type": "code",
   "execution_count": 56,
   "id": "7387ea40-6173-4f6b-972c-7695b45d2fda",
   "metadata": {},
   "outputs": [
    {
     "name": "stdout",
     "output_type": "stream",
     "text": [
      "0.4175010867764205564190076486%\n"
     ]
    }
   ],
   "source": [
    "n = 20\n",
    "x = stirling(n)\n",
    "x0 = correct_factorials[n]\n",
    "delta = abs(x - x0) / x\n",
    "print(f\"{delta * 100}%\")"
   ]
  },
  {
   "cell_type": "markdown",
   "id": "db027c4d-d781-471c-a4a7-d4d06fbd4226",
   "metadata": {},
   "source": [
    "Jak widać teraz błąd względny jest dużo mniejszy"
   ]
  },
  {
   "cell_type": "code",
   "execution_count": 58,
   "id": "4a62fabf-308a-46e9-b66e-4285b28c82f9",
   "metadata": {},
   "outputs": [
    {
     "name": "stdout",
     "output_type": "stream",
     "text": [
      "finished!\n",
      "0.0009095668792724609\n"
     ]
    }
   ],
   "source": [
    "from time import time\n",
    "\n",
    "start = time()\n",
    "a = stirling(200_000)\n",
    "print(\"finished!\")\n",
    "end = time()\n",
    "stirling_fact_score = end - start\n",
    "print(stirling_fact_score)"
   ]
  },
  {
   "cell_type": "code",
   "execution_count": null,
   "id": "26ce69b9-1855-46ee-9ff4-7b836b6aa706",
   "metadata": {},
   "outputs": [],
   "source": []
  },
  {
   "cell_type": "code",
   "execution_count": null,
   "id": "bc3598a1-3040-460c-ae62-80bb3a52c966",
   "metadata": {},
   "outputs": [],
   "source": []
  },
  {
   "cell_type": "code",
   "execution_count": null,
   "id": "9e23cae0",
   "metadata": {},
   "outputs": [],
   "source": []
  },
  {
   "cell_type": "code",
   "execution_count": null,
   "id": "c4338a8d",
   "metadata": {},
   "outputs": [],
   "source": []
  },
  {
   "cell_type": "code",
   "execution_count": null,
   "id": "1a0c64ab",
   "metadata": {},
   "outputs": [],
   "source": []
  },
  {
   "cell_type": "code",
   "execution_count": null,
   "id": "66ea6b17",
   "metadata": {},
   "outputs": [],
   "source": []
  },
  {
   "cell_type": "code",
   "execution_count": null,
   "id": "d86fd6fe",
   "metadata": {},
   "outputs": [],
   "source": []
  },
  {
   "cell_type": "code",
   "execution_count": null,
   "id": "06abaf57",
   "metadata": {},
   "outputs": [],
   "source": []
  },
  {
   "cell_type": "code",
   "execution_count": null,
   "id": "bd20c6e0",
   "metadata": {},
   "outputs": [],
   "source": []
  },
  {
   "cell_type": "code",
   "execution_count": null,
   "id": "39881c6a",
   "metadata": {},
   "outputs": [],
   "source": []
  }
 ],
 "metadata": {
  "kernelspec": {
   "display_name": "Python 3 (ipykernel)",
   "language": "python",
   "name": "python3"
  },
  "language_info": {
   "codemirror_mode": {
    "name": "ipython",
    "version": 3
   },
   "file_extension": ".py",
   "mimetype": "text/x-python",
   "name": "python",
   "nbconvert_exporter": "python",
   "pygments_lexer": "ipython3",
   "version": "3.10.12"
  }
 },
 "nbformat": 4,
 "nbformat_minor": 5
}
